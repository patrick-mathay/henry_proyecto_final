{
 "cells": [
  {
   "cell_type": "code",
   "execution_count": 1,
   "metadata": {},
   "outputs": [
    {
     "name": "stdout",
     "output_type": "stream",
     "text": [
      "Requirement already satisfied: requests in c:\\users\\owner\\anaconda3\\lib\\site-packages (2.31.0)\n",
      "Requirement already satisfied: charset-normalizer<4,>=2 in c:\\users\\owner\\anaconda3\\lib\\site-packages (from requests) (2.0.4)\n",
      "Requirement already satisfied: idna<4,>=2.5 in c:\\users\\owner\\anaconda3\\lib\\site-packages (from requests) (3.4)\n",
      "Requirement already satisfied: urllib3<3,>=1.21.1 in c:\\users\\owner\\anaconda3\\lib\\site-packages (from requests) (1.26.16)\n",
      "Requirement already satisfied: certifi>=2017.4.17 in c:\\users\\owner\\anaconda3\\lib\\site-packages (from requests) (2023.7.22)\n",
      "Note: you may need to restart the kernel to use updated packages.\n"
     ]
    }
   ],
   "source": [
    "pip install requests"
   ]
  },
  {
   "cell_type": "code",
   "execution_count": 2,
   "metadata": {},
   "outputs": [
    {
     "name": "stdout",
     "output_type": "stream",
     "text": [
      "[['NAME', 'POPGROUP_LABEL', 'POPGROUP', 'state'], ['Alabama', 'European alone', '1002', '01'], ['Alaska', 'European alone', '1002', '02'], ['Arizona', 'European alone', '1002', '04'], ['Arkansas', 'European alone', '1002', '05'], ['California', 'European alone', '1002', '06'], ['Colorado', 'European alone', '1002', '08'], ['Connecticut', 'European alone', '1002', '09'], ['Delaware', 'European alone', '1002', '10'], ['District of Columbia', 'European alone', '1002', '11'], ['Florida', 'European alone', '1002', '12'], ['Georgia', 'European alone', '1002', '13'], ['Hawaii', 'European alone', '1002', '15'], ['Idaho', 'European alone', '1002', '16'], ['Illinois', 'European alone', '1002', '17'], ['Indiana', 'European alone', '1002', '18'], ['Iowa', 'European alone', '1002', '19'], ['Kansas', 'European alone', '1002', '20'], ['Kentucky', 'European alone', '1002', '21'], ['Louisiana', 'European alone', '1002', '22'], ['Maine', 'European alone', '1002', '23'], ['Maryland', 'European alone', '1002', '24'], ['Massachusetts', 'European alone', '1002', '25'], ['Michigan', 'European alone', '1002', '26'], ['Minnesota', 'European alone', '1002', '27'], ['Mississippi', 'European alone', '1002', '28'], ['Missouri', 'European alone', '1002', '29'], ['Montana', 'European alone', '1002', '30'], ['Nebraska', 'European alone', '1002', '31'], ['Nevada', 'European alone', '1002', '32'], ['New Hampshire', 'European alone', '1002', '33'], ['New Jersey', 'European alone', '1002', '34'], ['New Mexico', 'European alone', '1002', '35'], ['New York', 'European alone', '1002', '36'], ['North Carolina', 'European alone', '1002', '37'], ['North Dakota', 'European alone', '1002', '38'], ['Ohio', 'European alone', '1002', '39'], ['Oklahoma', 'European alone', '1002', '40'], ['Oregon', 'European alone', '1002', '41'], ['Pennsylvania', 'European alone', '1002', '42'], ['Rhode Island', 'European alone', '1002', '44'], ['South Carolina', 'European alone', '1002', '45'], ['South Dakota', 'European alone', '1002', '46'], ['Tennessee', 'European alone', '1002', '47'], ['Texas', 'European alone', '1002', '48'], ['Utah', 'European alone', '1002', '49'], ['Vermont', 'European alone', '1002', '50'], ['Virginia', 'European alone', '1002', '51'], ['Washington', 'European alone', '1002', '53'], ['West Virginia', 'European alone', '1002', '54'], ['Wisconsin', 'European alone', '1002', '55'], ['Wyoming', 'European alone', '1002', '56'], ['Puerto Rico', 'European alone', '1002', '72']]\n"
     ]
    }
   ],
   "source": [
    "import requests\n",
    "\n",
    "# Replace '[user key]' with your actual Census API key\n",
    "api_key = 'da004ad9ff1b378927066cd8befca21e5d3b3bc6'\n",
    "\n",
    "# Base URL for Census API\n",
    "base_url = 'https://api.census.gov/data/2020/dec/ddhca'\n",
    "\n",
    "# Parameters for the API call\n",
    "params = {\n",
    "    'get': 'NAME,POPGROUP_LABEL',\n",
    "    'POPGROUP': '1002',\n",
    "    'for': 'state:*',\n",
    "    'key': api_key\n",
    "}\n",
    "\n",
    "# Make the API call\n",
    "response = requests.get(base_url, params=params)\n",
    "\n",
    "# Check if the request was successful\n",
    "if response.status_code == 200:\n",
    "    # Print the response data\n",
    "    print(response.json())\n",
    "else:\n",
    "    print('Error:', response.status_code)\n"
   ]
  }
 ],
 "metadata": {
  "kernelspec": {
   "display_name": "Python 3",
   "language": "python",
   "name": "python3"
  },
  "language_info": {
   "codemirror_mode": {
    "name": "ipython",
    "version": 3
   },
   "file_extension": ".py",
   "mimetype": "text/x-python",
   "name": "python",
   "nbconvert_exporter": "python",
   "pygments_lexer": "ipython3",
   "version": "3.11.5"
  }
 },
 "nbformat": 4,
 "nbformat_minor": 2
}
